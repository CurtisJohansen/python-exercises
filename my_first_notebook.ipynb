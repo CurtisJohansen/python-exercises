{
 "cells": [
  {
   "cell_type": "markdown",
   "id": "441e4baf",
   "metadata": {},
   "source": [
    "# 3 shortcuts for jupyter notebooks\n",
    "\n",
    "- Shift + Enter run the current cell, select below.\n",
    "- Ctrl + Enter run selected cells.\n",
    "- option + Enter run the current cell, insert below."
   ]
  },
  {
   "cell_type": "code",
   "execution_count": 6,
   "id": "a8155391",
   "metadata": {},
   "outputs": [
    {
     "name": "stdout",
     "output_type": "stream",
     "text": [
      "2\n"
     ]
    }
   ],
   "source": [
    "print (1+1)"
   ]
  },
  {
   "cell_type": "code",
   "execution_count": 4,
   "id": "bbfa61c9",
   "metadata": {},
   "outputs": [
    {
     "name": "stdout",
     "output_type": "stream",
     "text": [
      "Hello Class\n"
     ]
    }
   ],
   "source": [
    "print (\"Hello Class\")"
   ]
  },
  {
   "cell_type": "markdown",
   "id": "45b5d2f1",
   "metadata": {},
   "source": [
    " 6-2"
   ]
  },
  {
   "cell_type": "code",
   "execution_count": null,
   "id": "b5cb4f6a",
   "metadata": {},
   "outputs": [],
   "source": []
  }
 ],
 "metadata": {
  "kernelspec": {
   "display_name": "Python 3",
   "language": "python",
   "name": "python3"
  },
  "language_info": {
   "codemirror_mode": {
    "name": "ipython",
    "version": 3
   },
   "file_extension": ".py",
   "mimetype": "text/x-python",
   "name": "python",
   "nbconvert_exporter": "python",
   "pygments_lexer": "ipython3",
   "version": "3.8.8"
  }
 },
 "nbformat": 4,
 "nbformat_minor": 5
}
