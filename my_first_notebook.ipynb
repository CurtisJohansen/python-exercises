{
 "cells": [
  {
   "cell_type": "markdown",
   "id": "441e4baf",
   "metadata": {},
   "source": [
    "# 3 shortcuts for jupyter notebooks\n",
    "\n",
    "- Shift + Enter run the current cell, select below.\n",
    "- Ctrl + Enter run selected cells.\n",
    "- option + Enter run the current cell, insert below."
   ]
  },
  {
   "cell_type": "code",
   "execution_count": 6,
   "id": "a8155391",
   "metadata": {},
   "outputs": [
    {
     "name": "stdout",
     "output_type": "stream",
     "text": [
      "2\n"
     ]
    }
   ],
   "source": [
    "print (1+1)"
   ]
  },
  {
   "cell_type": "code",
   "execution_count": 4,
   "id": "bbfa61c9",
   "metadata": {},
   "outputs": [
    {
     "name": "stdout",
     "output_type": "stream",
     "text": [
      "Hello Class\n"
     ]
    }
   ],
   "source": [
    "print (\"Hello Class\")"
   ]
  },
  {
   "cell_type": "code",
   "execution_count": 1,
   "id": "dcc2d3f3",
   "metadata": {},
   "outputs": [
    {
     "data": {
      "text/plain": [
       "2"
      ]
     },
     "execution_count": 1,
     "metadata": {},
     "output_type": "execute_result"
    }
   ],
   "source": [
    "6-4"
   ]
  },
  {
   "cell_type": "code",
   "execution_count": null,
   "id": "0286abc9",
   "metadata": {},
   "outputs": [],
   "source": []
  }
 ],
 "metadata": {
  "kernelspec": {
   "display_name": "Python 3",
   "language": "python",
   "name": "python3"
  },
  "language_info": {
   "codemirror_mode": {
    "name": "ipython",
    "version": 3
   },
   "file_extension": ".py",
   "mimetype": "text/x-python",
   "name": "python",
   "nbconvert_exporter": "python",
   "pygments_lexer": "ipython3",
   "version": "3.8.8"
  }
 },
 "nbformat": 4,
 "nbformat_minor": 5
}
